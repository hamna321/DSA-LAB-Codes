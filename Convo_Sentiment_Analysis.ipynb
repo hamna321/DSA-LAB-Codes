{
  "cells": [
    {
      "cell_type": "markdown",
      "metadata": {
        "id": "view-in-github",
        "colab_type": "text"
      },
      "source": [
        "<a href=\"https://colab.research.google.com/github/hamna321/DSA-LAB-Codes/blob/master/Convo_Sentiment_Analysis.ipynb\" target=\"_parent\"><img src=\"https://colab.research.google.com/assets/colab-badge.svg\" alt=\"Open In Colab\"/></a>"
      ]
    },
    {
      "cell_type": "markdown",
      "metadata": {
        "id": "Og0tuWQ4GEx8"
      },
      "source": [
        "For downloading Clarifai use this command"
      ]
    },
    {
      "cell_type": "code",
      "execution_count": 1,
      "metadata": {
        "id": "j45A-ww6dXOv",
        "colab": {
          "base_uri": "https://localhost:8080/"
        },
        "outputId": "e6c75b02-43e3-4e78-e18d-4c6f1e61e96a"
      },
      "outputs": [
        {
          "output_type": "stream",
          "name": "stdout",
          "text": [
            "Requirement already satisfied: clarifai in /usr/local/lib/python3.10/dist-packages (10.0.0)\n",
            "Requirement already satisfied: clarifai-grpc~=10.0.1 in /usr/local/lib/python3.10/dist-packages (from clarifai) (10.0.3)\n",
            "Requirement already satisfied: pandas>=1.3.5 in /usr/local/lib/python3.10/dist-packages (from clarifai) (1.5.3)\n",
            "Requirement already satisfied: numpy>=1.22.0 in /usr/local/lib/python3.10/dist-packages (from clarifai) (1.23.5)\n",
            "Requirement already satisfied: tqdm>=4.65.0 in /usr/local/lib/python3.10/dist-packages (from clarifai) (4.66.1)\n",
            "Requirement already satisfied: opencv-python>=4.7.0.68 in /usr/local/lib/python3.10/dist-packages (from clarifai) (4.8.0.76)\n",
            "Requirement already satisfied: tritonclient>=2.34.0 in /usr/local/lib/python3.10/dist-packages (from clarifai) (2.41.1)\n",
            "Requirement already satisfied: rich>=13.4.2 in /usr/local/lib/python3.10/dist-packages (from clarifai) (13.7.0)\n",
            "Requirement already satisfied: PyYAML>=6.0.1 in /usr/local/lib/python3.10/dist-packages (from clarifai) (6.0.1)\n",
            "Requirement already satisfied: schema>=0.7.5 in /usr/local/lib/python3.10/dist-packages (from clarifai) (0.7.5)\n",
            "Requirement already satisfied: Pillow>=9.5.0 in /usr/local/lib/python3.10/dist-packages (from clarifai) (10.2.0)\n",
            "Requirement already satisfied: llama-index>=0.9.27 in /usr/local/lib/python3.10/dist-packages (from clarifai) (0.9.32)\n",
            "Requirement already satisfied: pypdf>=3.17.4 in /usr/local/lib/python3.10/dist-packages (from clarifai) (3.17.4)\n",
            "Requirement already satisfied: grpcio>=1.44.0 in /usr/local/lib/python3.10/dist-packages (from clarifai-grpc~=10.0.1->clarifai) (1.60.0)\n",
            "Requirement already satisfied: protobuf>=3.20.3 in /usr/local/lib/python3.10/dist-packages (from clarifai-grpc~=10.0.1->clarifai) (3.20.3)\n",
            "Requirement already satisfied: googleapis-common-protos>=1.53.0 in /usr/local/lib/python3.10/dist-packages (from clarifai-grpc~=10.0.1->clarifai) (1.62.0)\n",
            "Requirement already satisfied: requests>=2.25.1 in /usr/local/lib/python3.10/dist-packages (from clarifai-grpc~=10.0.1->clarifai) (2.31.0)\n",
            "Requirement already satisfied: SQLAlchemy[asyncio]>=1.4.49 in /usr/local/lib/python3.10/dist-packages (from llama-index>=0.9.27->clarifai) (2.0.24)\n",
            "Requirement already satisfied: aiohttp<4.0.0,>=3.8.6 in /usr/local/lib/python3.10/dist-packages (from llama-index>=0.9.27->clarifai) (3.9.1)\n",
            "Requirement already satisfied: beautifulsoup4<5.0.0,>=4.12.2 in /usr/local/lib/python3.10/dist-packages (from llama-index>=0.9.27->clarifai) (4.12.2)\n",
            "Requirement already satisfied: dataclasses-json in /usr/local/lib/python3.10/dist-packages (from llama-index>=0.9.27->clarifai) (0.6.3)\n",
            "Requirement already satisfied: deprecated>=1.2.9.3 in /usr/local/lib/python3.10/dist-packages (from llama-index>=0.9.27->clarifai) (1.2.14)\n",
            "Requirement already satisfied: fsspec>=2023.5.0 in /usr/local/lib/python3.10/dist-packages (from llama-index>=0.9.27->clarifai) (2023.6.0)\n",
            "Requirement already satisfied: httpx in /usr/local/lib/python3.10/dist-packages (from llama-index>=0.9.27->clarifai) (0.26.0)\n",
            "Requirement already satisfied: nest-asyncio<2.0.0,>=1.5.8 in /usr/local/lib/python3.10/dist-packages (from llama-index>=0.9.27->clarifai) (1.5.8)\n",
            "Requirement already satisfied: networkx>=3.0 in /usr/local/lib/python3.10/dist-packages (from llama-index>=0.9.27->clarifai) (3.2.1)\n",
            "Requirement already satisfied: nltk<4.0.0,>=3.8.1 in /usr/local/lib/python3.10/dist-packages (from llama-index>=0.9.27->clarifai) (3.8.1)\n",
            "Requirement already satisfied: openai>=1.1.0 in /usr/local/lib/python3.10/dist-packages (from llama-index>=0.9.27->clarifai) (1.8.0)\n",
            "Requirement already satisfied: tenacity<9.0.0,>=8.2.0 in /usr/local/lib/python3.10/dist-packages (from llama-index>=0.9.27->clarifai) (8.2.3)\n",
            "Requirement already satisfied: tiktoken>=0.3.3 in /usr/local/lib/python3.10/dist-packages (from llama-index>=0.9.27->clarifai) (0.5.2)\n",
            "Requirement already satisfied: typing-extensions>=4.5.0 in /usr/local/lib/python3.10/dist-packages (from llama-index>=0.9.27->clarifai) (4.9.0)\n",
            "Requirement already satisfied: typing-inspect>=0.8.0 in /usr/local/lib/python3.10/dist-packages (from llama-index>=0.9.27->clarifai) (0.9.0)\n",
            "Requirement already satisfied: python-dateutil>=2.8.1 in /usr/local/lib/python3.10/dist-packages (from pandas>=1.3.5->clarifai) (2.8.2)\n",
            "Requirement already satisfied: pytz>=2020.1 in /usr/local/lib/python3.10/dist-packages (from pandas>=1.3.5->clarifai) (2023.3.post1)\n",
            "Requirement already satisfied: markdown-it-py>=2.2.0 in /usr/local/lib/python3.10/dist-packages (from rich>=13.4.2->clarifai) (3.0.0)\n",
            "Requirement already satisfied: pygments<3.0.0,>=2.13.0 in /usr/local/lib/python3.10/dist-packages (from rich>=13.4.2->clarifai) (2.16.1)\n",
            "Requirement already satisfied: contextlib2>=0.5.5 in /usr/local/lib/python3.10/dist-packages (from schema>=0.7.5->clarifai) (21.6.0)\n",
            "Requirement already satisfied: python-rapidjson>=0.9.1 in /usr/local/lib/python3.10/dist-packages (from tritonclient>=2.34.0->clarifai) (1.14)\n",
            "Requirement already satisfied: attrs>=17.3.0 in /usr/local/lib/python3.10/dist-packages (from aiohttp<4.0.0,>=3.8.6->llama-index>=0.9.27->clarifai) (23.2.0)\n",
            "Requirement already satisfied: multidict<7.0,>=4.5 in /usr/local/lib/python3.10/dist-packages (from aiohttp<4.0.0,>=3.8.6->llama-index>=0.9.27->clarifai) (6.0.4)\n",
            "Requirement already satisfied: yarl<2.0,>=1.0 in /usr/local/lib/python3.10/dist-packages (from aiohttp<4.0.0,>=3.8.6->llama-index>=0.9.27->clarifai) (1.9.4)\n",
            "Requirement already satisfied: frozenlist>=1.1.1 in /usr/local/lib/python3.10/dist-packages (from aiohttp<4.0.0,>=3.8.6->llama-index>=0.9.27->clarifai) (1.4.1)\n",
            "Requirement already satisfied: aiosignal>=1.1.2 in /usr/local/lib/python3.10/dist-packages (from aiohttp<4.0.0,>=3.8.6->llama-index>=0.9.27->clarifai) (1.3.1)\n",
            "Requirement already satisfied: async-timeout<5.0,>=4.0 in /usr/local/lib/python3.10/dist-packages (from aiohttp<4.0.0,>=3.8.6->llama-index>=0.9.27->clarifai) (4.0.3)\n",
            "Requirement already satisfied: soupsieve>1.2 in /usr/local/lib/python3.10/dist-packages (from beautifulsoup4<5.0.0,>=4.12.2->llama-index>=0.9.27->clarifai) (2.5)\n",
            "Requirement already satisfied: wrapt<2,>=1.10 in /usr/local/lib/python3.10/dist-packages (from deprecated>=1.2.9.3->llama-index>=0.9.27->clarifai) (1.14.1)\n",
            "Requirement already satisfied: mdurl~=0.1 in /usr/local/lib/python3.10/dist-packages (from markdown-it-py>=2.2.0->rich>=13.4.2->clarifai) (0.1.2)\n",
            "Requirement already satisfied: click in /usr/local/lib/python3.10/dist-packages (from nltk<4.0.0,>=3.8.1->llama-index>=0.9.27->clarifai) (8.1.7)\n",
            "Requirement already satisfied: joblib in /usr/local/lib/python3.10/dist-packages (from nltk<4.0.0,>=3.8.1->llama-index>=0.9.27->clarifai) (1.3.2)\n",
            "Requirement already satisfied: regex>=2021.8.3 in /usr/local/lib/python3.10/dist-packages (from nltk<4.0.0,>=3.8.1->llama-index>=0.9.27->clarifai) (2023.6.3)\n",
            "Requirement already satisfied: anyio<5,>=3.5.0 in /usr/local/lib/python3.10/dist-packages (from openai>=1.1.0->llama-index>=0.9.27->clarifai) (3.7.1)\n",
            "Requirement already satisfied: distro<2,>=1.7.0 in /usr/lib/python3/dist-packages (from openai>=1.1.0->llama-index>=0.9.27->clarifai) (1.7.0)\n",
            "Requirement already satisfied: pydantic<3,>=1.9.0 in /usr/local/lib/python3.10/dist-packages (from openai>=1.1.0->llama-index>=0.9.27->clarifai) (1.10.13)\n",
            "Requirement already satisfied: sniffio in /usr/local/lib/python3.10/dist-packages (from openai>=1.1.0->llama-index>=0.9.27->clarifai) (1.3.0)\n",
            "Requirement already satisfied: certifi in /usr/local/lib/python3.10/dist-packages (from httpx->llama-index>=0.9.27->clarifai) (2023.11.17)\n",
            "Requirement already satisfied: httpcore==1.* in /usr/local/lib/python3.10/dist-packages (from httpx->llama-index>=0.9.27->clarifai) (1.0.2)\n",
            "Requirement already satisfied: idna in /usr/local/lib/python3.10/dist-packages (from httpx->llama-index>=0.9.27->clarifai) (3.6)\n",
            "Requirement already satisfied: h11<0.15,>=0.13 in /usr/local/lib/python3.10/dist-packages (from httpcore==1.*->httpx->llama-index>=0.9.27->clarifai) (0.14.0)\n",
            "Requirement already satisfied: six>=1.5 in /usr/local/lib/python3.10/dist-packages (from python-dateutil>=2.8.1->pandas>=1.3.5->clarifai) (1.16.0)\n",
            "Requirement already satisfied: charset-normalizer<4,>=2 in /usr/local/lib/python3.10/dist-packages (from requests>=2.25.1->clarifai-grpc~=10.0.1->clarifai) (3.3.2)\n",
            "Requirement already satisfied: urllib3<3,>=1.21.1 in /usr/local/lib/python3.10/dist-packages (from requests>=2.25.1->clarifai-grpc~=10.0.1->clarifai) (2.0.7)\n",
            "Requirement already satisfied: greenlet!=0.4.17 in /usr/local/lib/python3.10/dist-packages (from SQLAlchemy[asyncio]>=1.4.49->llama-index>=0.9.27->clarifai) (3.0.3)\n",
            "Requirement already satisfied: mypy-extensions>=0.3.0 in /usr/local/lib/python3.10/dist-packages (from typing-inspect>=0.8.0->llama-index>=0.9.27->clarifai) (1.0.0)\n",
            "Requirement already satisfied: marshmallow<4.0.0,>=3.18.0 in /usr/local/lib/python3.10/dist-packages (from dataclasses-json->llama-index>=0.9.27->clarifai) (3.20.2)\n",
            "Requirement already satisfied: exceptiongroup in /usr/local/lib/python3.10/dist-packages (from anyio<5,>=3.5.0->openai>=1.1.0->llama-index>=0.9.27->clarifai) (1.2.0)\n",
            "Requirement already satisfied: packaging>=17.0 in /usr/local/lib/python3.10/dist-packages (from marshmallow<4.0.0,>=3.18.0->dataclasses-json->llama-index>=0.9.27->clarifai) (23.2)\n"
          ]
        }
      ],
      "source": [
        "!pip install clarifai"
      ]
    },
    {
      "cell_type": "markdown",
      "metadata": {
        "id": "u1Inr25OGJLW"
      },
      "source": [
        "Clarifai Personal Access Token of GPT-4 Turbo"
      ]
    },
    {
      "cell_type": "code",
      "source": [
        "import os\n",
        "\n",
        "%env CLARIFAI_PAT = \"5d7a50b44aec4a01a9c492c5a5fcf387\"\n"
      ],
      "metadata": {
        "id": "4PNL19oJvn-U",
        "colab": {
          "base_uri": "https://localhost:8080/"
        },
        "outputId": "47176b85-2553-418a-b94e-a5a7c3bc1f79"
      },
      "execution_count": 2,
      "outputs": [
        {
          "output_type": "stream",
          "name": "stdout",
          "text": [
            "env: CLARIFAI_PAT=\"5d7a50b44aec4a01a9c492c5a5fcf387\"\n"
          ]
        }
      ]
    },
    {
      "cell_type": "markdown",
      "metadata": {
        "id": "pu0TA7K3GN92"
      },
      "source": [
        "Access Openai api key for GPT-4"
      ]
    },
    {
      "cell_type": "code",
      "execution_count": null,
      "metadata": {
        "id": "dl2yuzyAs_x4",
        "colab": {
          "base_uri": "https://localhost:8080/"
        },
        "outputId": "da651f3c-717f-4449-8739-2f9cc02d75d0"
      },
      "outputs": [
        {
          "output_type": "stream",
          "name": "stdout",
          "text": [
            "Requirement already satisfied: openai in /usr/local/lib/python3.10/dist-packages (1.7.2)\n",
            "Requirement already satisfied: anyio<5,>=3.5.0 in /usr/local/lib/python3.10/dist-packages (from openai) (3.7.1)\n",
            "Requirement already satisfied: distro<2,>=1.7.0 in /usr/lib/python3/dist-packages (from openai) (1.7.0)\n",
            "Requirement already satisfied: httpx<1,>=0.23.0 in /usr/local/lib/python3.10/dist-packages (from openai) (0.26.0)\n",
            "Requirement already satisfied: pydantic<3,>=1.9.0 in /usr/local/lib/python3.10/dist-packages (from openai) (1.10.13)\n",
            "Requirement already satisfied: sniffio in /usr/local/lib/python3.10/dist-packages (from openai) (1.3.0)\n",
            "Requirement already satisfied: tqdm>4 in /usr/local/lib/python3.10/dist-packages (from openai) (4.66.1)\n",
            "Requirement already satisfied: typing-extensions<5,>=4.7 in /usr/local/lib/python3.10/dist-packages (from openai) (4.9.0)\n",
            "Requirement already satisfied: idna>=2.8 in /usr/local/lib/python3.10/dist-packages (from anyio<5,>=3.5.0->openai) (3.6)\n",
            "Requirement already satisfied: exceptiongroup in /usr/local/lib/python3.10/dist-packages (from anyio<5,>=3.5.0->openai) (1.2.0)\n",
            "Requirement already satisfied: certifi in /usr/local/lib/python3.10/dist-packages (from httpx<1,>=0.23.0->openai) (2023.11.17)\n",
            "Requirement already satisfied: httpcore==1.* in /usr/local/lib/python3.10/dist-packages (from httpx<1,>=0.23.0->openai) (1.0.2)\n",
            "Requirement already satisfied: h11<0.15,>=0.13 in /usr/local/lib/python3.10/dist-packages (from httpcore==1.*->httpx<1,>=0.23.0->openai) (0.14.0)\n"
          ]
        }
      ],
      "source": [
        "!pip install openai"
      ]
    },
    {
      "cell_type": "markdown",
      "source": [
        "Api key for GPT Vision"
      ],
      "metadata": {
        "id": "M8fIOuFMOIG7"
      }
    },
    {
      "cell_type": "code",
      "source": [
        "%env CLARIFAI_PAT=4dadb44b7b694d349a3250a67bad1523\n"
      ],
      "metadata": {
        "colab": {
          "base_uri": "https://localhost:8080/"
        },
        "id": "95xVnCYwNxpf",
        "outputId": "7d090f57-53de-4597-dda3-d6ca1e2a99ef"
      },
      "execution_count": 9,
      "outputs": [
        {
          "output_type": "stream",
          "name": "stdout",
          "text": [
            "env: CLARIFAI_PAT=4dadb44b7b694d349a3250a67bad1523\n"
          ]
        }
      ]
    },
    {
      "cell_type": "markdown",
      "source": [
        "Gpt-vision Code"
      ],
      "metadata": {
        "id": "3ynGNemNONf2"
      }
    },
    {
      "cell_type": "code",
      "execution_count": 10,
      "metadata": {
        "id": "z0mNmbiwMKtu",
        "colab": {
          "base_uri": "https://localhost:8080/"
        },
        "outputId": "691e32c8-749e-4a0b-dd5e-6d9904552d2e"
      },
      "outputs": [
        {
          "output_type": "stream",
          "name": "stdout",
          "text": [
            "The image shows a train station during twilight, which can occur both during dawn before sunrise and during dusk after sunset. The sky has a gradient from a deeper blue to lighter hues near the horizon, which is characteristic of these times. However, without additional context, it's not possible to determine if it's morning or evening. The lighting at the station and the presence of snow also suggest that it could be winter when the hours of daylight are shorter.\n"
          ]
        }
      ],
      "source": [
        "from clarifai.client.model import Model\n",
        "from clarifai.client.input import Inputs\n",
        "\n",
        "prompt = \"What time of day is it?\"\n",
        "image_url = \"https://samples.clarifai.com/metro-north.jpg\"\n",
        "inference_params = dict(temperature=0.2, max_tokens=100)\n",
        "\n",
        "model_prediction = Model(\"https://clarifai.com/openai/chat-completion/models/openai-gpt-4-vision\").predict(inputs = [Inputs.get_multimodal_input(input_id=\"\",image_url=image_url, raw_text=prompt)],inference_params=inference_params)\n",
        "\n",
        "print(model_prediction.outputs[0].data.text.raw)\n"
      ]
    },
    {
      "cell_type": "markdown",
      "metadata": {
        "id": "sspMEUapDZrK"
      },
      "source": [
        "# Clarifai Sentimental Analysis Model"
      ]
    },
    {
      "cell_type": "markdown",
      "source": [
        "installing the libraries for sentimental Analysis"
      ],
      "metadata": {
        "id": "k0z5j9-uOhsB"
      }
    },
    {
      "cell_type": "code",
      "source": [
        "!pip install transformers scipy"
      ],
      "metadata": {
        "colab": {
          "base_uri": "https://localhost:8080/"
        },
        "id": "4h7VoYm9OilY",
        "outputId": "6d003b25-153b-45fd-fd5e-b305a43f8dee"
      },
      "execution_count": 11,
      "outputs": [
        {
          "output_type": "stream",
          "name": "stdout",
          "text": [
            "Requirement already satisfied: transformers in /usr/local/lib/python3.10/dist-packages (4.35.2)\n",
            "Requirement already satisfied: scipy in /usr/local/lib/python3.10/dist-packages (1.11.4)\n",
            "Requirement already satisfied: filelock in /usr/local/lib/python3.10/dist-packages (from transformers) (3.13.1)\n",
            "Requirement already satisfied: huggingface-hub<1.0,>=0.16.4 in /usr/local/lib/python3.10/dist-packages (from transformers) (0.20.2)\n",
            "Requirement already satisfied: numpy>=1.17 in /usr/local/lib/python3.10/dist-packages (from transformers) (1.23.5)\n",
            "Requirement already satisfied: packaging>=20.0 in /usr/local/lib/python3.10/dist-packages (from transformers) (23.2)\n",
            "Requirement already satisfied: pyyaml>=5.1 in /usr/local/lib/python3.10/dist-packages (from transformers) (6.0.1)\n",
            "Requirement already satisfied: regex!=2019.12.17 in /usr/local/lib/python3.10/dist-packages (from transformers) (2023.6.3)\n",
            "Requirement already satisfied: requests in /usr/local/lib/python3.10/dist-packages (from transformers) (2.31.0)\n",
            "Requirement already satisfied: tokenizers<0.19,>=0.14 in /usr/local/lib/python3.10/dist-packages (from transformers) (0.15.0)\n",
            "Requirement already satisfied: safetensors>=0.3.1 in /usr/local/lib/python3.10/dist-packages (from transformers) (0.4.1)\n",
            "Requirement already satisfied: tqdm>=4.27 in /usr/local/lib/python3.10/dist-packages (from transformers) (4.66.1)\n",
            "Requirement already satisfied: fsspec>=2023.5.0 in /usr/local/lib/python3.10/dist-packages (from huggingface-hub<1.0,>=0.16.4->transformers) (2023.6.0)\n",
            "Requirement already satisfied: typing-extensions>=3.7.4.3 in /usr/local/lib/python3.10/dist-packages (from huggingface-hub<1.0,>=0.16.4->transformers) (4.9.0)\n",
            "Requirement already satisfied: charset-normalizer<4,>=2 in /usr/local/lib/python3.10/dist-packages (from requests->transformers) (3.3.2)\n",
            "Requirement already satisfied: idna<4,>=2.5 in /usr/local/lib/python3.10/dist-packages (from requests->transformers) (3.6)\n",
            "Requirement already satisfied: urllib3<3,>=1.21.1 in /usr/local/lib/python3.10/dist-packages (from requests->transformers) (2.0.7)\n",
            "Requirement already satisfied: certifi>=2017.4.17 in /usr/local/lib/python3.10/dist-packages (from requests->transformers) (2023.11.17)\n"
          ]
        }
      ]
    },
    {
      "cell_type": "markdown",
      "metadata": {
        "id": "CgJqiNknx1qH"
      },
      "source": [
        "Python Code for Sentimental data."
      ]
    },
    {
      "cell_type": "code",
      "execution_count": 5,
      "metadata": {
        "id": "DZZjHOALOxTB",
        "colab": {
          "base_uri": "https://localhost:8080/"
        },
        "outputId": "24c87da3-0042-493a-ab33-e3d471738ac0"
      },
      "outputs": [
        {
          "output_type": "stream",
          "name": "stdout",
          "text": [
            "Predicted concepts:\n",
            "positive 0.99\n",
            "neutral 0.01\n",
            "negative 0.00\n"
          ]
        }
      ],
      "source": [
        "\n",
        "######################################################################################################\n",
        "# In this section, we set the user authentication, user and app ID, model details, and the URL of\n",
        "# the text we want as an input. Change these strings to run your own example.\n",
        "######################################################################################################\n",
        "\n",
        "# Your PAT (Personal Access Token) can be found in the portal under Authentification\n",
        "PAT = '7a721760203b47449d49d281dd2f3c9c'\n",
        "# Specify the correct user_id/app_id pairings\n",
        "# Since you're making inferences outside your app's scope\n",
        "USER_ID = 'clarifai'\n",
        "APP_ID = 'main'\n",
        "# Change these to whatever model and text URL you want to use\n",
        "MODEL_ID = 'social-media-sentiment-english'\n",
        "MODEL_VERSION_ID = 'fa9e29cb33f841b2832508cb41b30b44'\n",
        "RAW_TEXT = 'I love your product very much'\n",
        "# To use a hosted text file, assign the url variable\n",
        "# TEXT_FILE_URL = 'https://samples.clarifai.com/negative_sentence_12.txt'\n",
        "# Or, to use a local text file, assign the url variable\n",
        "# TEXT_FILE_LOCATION = 'YOUR_TEXT_FILE_LOCATION_HERE'\n",
        "\n",
        "############################################################################\n",
        "# YOU DO NOT NEED TO CHANGE ANYTHING BELOW THIS LINE TO RUN THIS EXAMPLE\n",
        "############################################################################\n",
        "\n",
        "from clarifai_grpc.channel.clarifai_channel import ClarifaiChannel\n",
        "from clarifai_grpc.grpc.api import resources_pb2, service_pb2, service_pb2_grpc\n",
        "from clarifai_grpc.grpc.api.status import status_code_pb2\n",
        "\n",
        "channel = ClarifaiChannel.get_grpc_channel()\n",
        "stub = service_pb2_grpc.V2Stub(channel)\n",
        "\n",
        "metadata = (('authorization', 'Key ' + PAT),)\n",
        "\n",
        "userDataObject = resources_pb2.UserAppIDSet(user_id=USER_ID, app_id=APP_ID)\n",
        "\n",
        "# To use a local text file, uncomment the following lines\n",
        "# with open(TEXT_FILE_LOCATION, \"rb\") as f:\n",
        "#    file_bytes = f.read()\n",
        "\n",
        "post_model_outputs_response = stub.PostModelOutputs(\n",
        "    service_pb2.PostModelOutputsRequest(\n",
        "        user_app_id=userDataObject,  # The userDataObject is created in the overview and is required when using a PAT\n",
        "        model_id=MODEL_ID,\n",
        "        version_id=MODEL_VERSION_ID,  # This is optional. Defaults to the latest model version\n",
        "        inputs=[\n",
        "            resources_pb2.Input(\n",
        "                data=resources_pb2.Data(\n",
        "                    text=resources_pb2.Text(\n",
        "                        raw=RAW_TEXT\n",
        "                        # url=TEXT_FILE_URL\n",
        "                        # raw=file_bytes\n",
        "                    )\n",
        "                )\n",
        "            )\n",
        "        ]\n",
        "    ),\n",
        "    metadata=metadata\n",
        ")\n",
        "if post_model_outputs_response.status.code != status_code_pb2.SUCCESS:\n",
        "    print(post_model_outputs_response.status)\n",
        "    raise Exception(\"Post model outputs failed, status: \" + post_model_outputs_response.status.description)\n",
        "\n",
        "# Since we have one input, one output will exist here\n",
        "output = post_model_outputs_response.outputs[0]\n",
        "\n",
        "print(\"Predicted concepts:\")\n",
        "for concept in output.data.concepts:\n",
        "    print(\"%s %.2f\" % (concept.name, concept.value))\n",
        "\n",
        "# Uncomment this line to print the full Response JSON\n",
        "#print(output)"
      ]
    },
    {
      "cell_type": "markdown",
      "metadata": {
        "id": "5oolUBEUwW4H"
      },
      "source": [
        "Running Streamlit app on Collab"
      ]
    },
    {
      "cell_type": "code",
      "execution_count": null,
      "metadata": {
        "id": "-JCYLsztzkHt",
        "colab": {
          "base_uri": "https://localhost:8080/"
        },
        "outputId": "8e2d7602-4ab7-4c22-8f6a-55cc99cd5312"
      },
      "outputs": [
        {
          "output_type": "stream",
          "name": "stdout",
          "text": [
            "\u001b[2K     \u001b[90m━━━━━━━━━━━━━━━━━━━━━━━━━━━━━━━━━━━━━━━━\u001b[0m \u001b[32m8.4/8.4 MB\u001b[0m \u001b[31m46.6 MB/s\u001b[0m eta \u001b[36m0:00:00\u001b[0m\n",
            "\u001b[2K     \u001b[90m━━━━━━━━━━━━━━━━━━━━━━━━━━━━━━━━━━━━━━━━\u001b[0m \u001b[32m196.4/196.4 kB\u001b[0m \u001b[31m27.4 MB/s\u001b[0m eta \u001b[36m0:00:00\u001b[0m\n",
            "\u001b[2K     \u001b[90m━━━━━━━━━━━━━━━━━━━━━━━━━━━━━━━━━━━━━━━━\u001b[0m \u001b[32m4.8/4.8 MB\u001b[0m \u001b[31m94.2 MB/s\u001b[0m eta \u001b[36m0:00:00\u001b[0m\n",
            "\u001b[2K     \u001b[90m━━━━━━━━━━━━━━━━━━━━━━━━━━━━━━━━━━━━━━━━\u001b[0m \u001b[32m82.1/82.1 kB\u001b[0m \u001b[31m12.5 MB/s\u001b[0m eta \u001b[36m0:00:00\u001b[0m\n",
            "\u001b[2K     \u001b[90m━━━━━━━━━━━━━━━━━━━━━━━━━━━━━━━━━━━━━━━━\u001b[0m \u001b[32m62.7/62.7 kB\u001b[0m \u001b[31m9.6 MB/s\u001b[0m eta \u001b[36m0:00:00\u001b[0m\n",
            "\u001b[?25h"
          ]
        }
      ],
      "source": [
        "! pip install streamlit -q"
      ]
    },
    {
      "cell_type": "code",
      "execution_count": null,
      "metadata": {
        "id": "cno31XISzpYD",
        "colab": {
          "base_uri": "https://localhost:8080/"
        },
        "outputId": "fd03d0e5-75a0-46a1-8cdf-9cfcfc1b7c26"
      },
      "outputs": [
        {
          "output_type": "stream",
          "name": "stdout",
          "text": [
            "34.106.44.205\n"
          ]
        }
      ],
      "source": [
        "!wget -q -O - ipv4.icanhazip.com"
      ]
    },
    {
      "cell_type": "code",
      "execution_count": 12,
      "metadata": {
        "colab": {
          "base_uri": "https://localhost:8080/"
        },
        "id": "muKZqJgKzULT",
        "outputId": "341c70c4-d54a-46e0-d5a0-30da052a4651"
      },
      "outputs": [
        {
          "output_type": "stream",
          "name": "stdout",
          "text": [
            "/bin/bash: line 1: streamlit: command not found\n",
            "\u001b[K\u001b[?25hnpx: installed 22 in 3.594s\n",
            "your url is: https://easy-bars-jog.loca.lt\n",
            "/root/.npm/_npx/3978/lib/node_modules/localtunnel/bin/lt.js:81\n",
            "    throw err;\n",
            "    ^\n",
            "\n",
            "Error: connection refused: localtunnel.me:39705 (check your firewall settings)\n",
            "    at Socket.<anonymous> (/root/.npm/_npx/3978/lib/node_modules/\u001b[4mlocaltunnel\u001b[24m/lib/TunnelCluster.js:52:11)\n",
            "\u001b[90m    at Socket.emit (events.js:315:20)\u001b[39m\n",
            "\u001b[90m    at emitErrorNT (internal/streams/destroy.js:106:8)\u001b[39m\n",
            "\u001b[90m    at emitErrorCloseNT (internal/streams/destroy.js:74:3)\u001b[39m\n",
            "\u001b[90m    at processTicksAndRejections (internal/process/task_queues.js:80:21)\u001b[39m\n"
          ]
        }
      ],
      "source": [
        "!streamlit Convo_Frontend.py & npx localtunnel --port 8501\n"
      ]
    }
  ],
  "metadata": {
    "colab": {
      "provenance": [],
      "include_colab_link": true
    },
    "kernelspec": {
      "display_name": "Python 3",
      "name": "python3"
    },
    "language_info": {
      "name": "python"
    }
  },
  "nbformat": 4,
  "nbformat_minor": 0
}